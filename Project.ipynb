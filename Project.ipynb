{
 "cells": [
  {
   "cell_type": "code",
   "execution_count": null,
   "metadata": {},
   "outputs": [],
   "source": [
    "from pygad import GA\n",
    "from sumolib import checkBinary\n",
    "import xml.etree.ElementTree as ET\n",
    "import traci\n",
    "import sys"
   ]
  },
  {
   "cell_type": "code",
   "execution_count": null,
   "metadata": {},
   "outputs": [],
   "source": [
    "def simulate(program): # run simulation\n",
    "    traci.start([checkBinary(program), \"-c\", \"sumo/simulation.sumocfg\", \"--tripinfo-output\", \"sumo/tripinfo.xml\"])\n",
    "    while traci.simulation.getMinExpectedNumber() > 0: # traci simulating multiple clients\n",
    "        traci.simulationStep()\n",
    "    traci.close()\n",
    "    sys.stdout.flush()\n",
    "    \n",
    "    xmldoc = ET.parse('sumo/tripinfo.xml')\n",
    "\n",
    "    tripinfos = xmldoc.findall('tripinfo')\n",
    "\n",
    "    waitingTime = 0\n",
    "    for tripinfo in tripinfos:\n",
    "        waitingTime += float(tripinfo.get('waitingTime'))\n",
    "        \n",
    "    return waitingTime # total waiting time of cars"
   ]
  },
  {
   "cell_type": "code",
   "execution_count": null,
   "metadata": {},
   "outputs": [],
   "source": [
    "def updateLight(time):\n",
    "    network = ET.parse('sumo/simulation.net.xml')\n",
    "    signal = network.find('tlLogic')\n",
    "    phases = signal.findall('phase')\n",
    "    phases[0].set(\"duration\", str(time))\n",
    "    phases[4].set(\"duration\", str(60.0-time))\n",
    "    network.write(\"sumo/simulation.net.xml\")"
   ]
  },
  {
   "cell_type": "code",
   "execution_count": null,
   "metadata": {},
   "outputs": [],
   "source": [
    "default = 30.0\n",
    "updateLight(default)\n",
    "initialWait=simulate(\"sumo-gui\")\n",
    "waitTimes=[]\n",
    "print(initialWait)"
   ]
  },
  {
   "cell_type": "code",
   "execution_count": null,
   "metadata": {},
   "outputs": [],
   "source": [
    "def fitness(solution, solution_idx):\n",
    "    updateLight(solution[0])\n",
    "    waitingTime = simulate('sumo') # run simulation and get waiting times\n",
    "    print(\"wait:\"+str(waitingTime))\n",
    "    waitTimes.append(waitingTime)\n",
    "    return initialWait/waitingTime"
   ]
  },
  {
   "cell_type": "code",
   "execution_count": null,
   "metadata": {},
   "outputs": [],
   "source": [
    "generations = 10\n",
    "population = 10\n",
    "parents_mating= 2\n",
    "num_genes=1\n",
    "\n",
    "init_range_low=0\n",
    "init_range_high=60\n",
    "\n",
    "parent_selection_type = \"sss\"\n",
    "keep_parents = -1\n",
    "\n",
    "mutation_type = \"random\"\n",
    "\n",
    "crossover_type = \"single_point\"\n",
    "ga = GA(fitness_func=fitness,\n",
    "        num_generations=generations,\n",
    "        sol_per_pop=population,\n",
    "        num_parents_mating=parents_mating,\n",
    "        num_genes=num_genes,\n",
    "        init_range_low=init_range_low,\n",
    "        init_range_high=init_range_high,\n",
    "        parent_selection_type=parent_selection_type,\n",
    "        keep_parents=keep_parents,\n",
    "        mutation_type=mutation_type,\n",
    "        crossover_type=crossover_type,\n",
    "        mutation_num_genes=num_genes,\n",
    "        save_solutions=True\n",
    ")"
   ]
  },
  {
   "cell_type": "code",
   "execution_count": null,
   "metadata": {},
   "outputs": [],
   "source": [
    "ga.run()"
   ]
  },
  {
   "cell_type": "code",
   "execution_count": null,
   "metadata": {},
   "outputs": [],
   "source": [
    "import matplotlib.pyplot as plt\n",
    "plt.plot(waitTimes, label='Gaidīšanas laiks')\n",
    "plt.legend()\n",
    "plt.show()\n",
    "ga.plot_fitness()\n",
    "print(\"initial: \"+str(initialWait)+\" min: \"+str(min(waitTimes)))\n",
    "print(ga.population)"
   ]
  }
 ],
 "metadata": {
  "kernelspec": {
   "display_name": "Python 3.10.5 64-bit",
   "language": "python",
   "name": "python3"
  },
  "language_info": {
   "codemirror_mode": {
    "name": "ipython",
    "version": 3
   },
   "file_extension": ".py",
   "mimetype": "text/x-python",
   "name": "python",
   "nbconvert_exporter": "python",
   "pygments_lexer": "ipython3",
   "version": "3.10.5"
  },
  "vscode": {
   "interpreter": {
    "hash": "e7370f93d1d0cde622a1f8e1c04877d8463912d04d973331ad4851f04de6915a"
   }
  }
 },
 "nbformat": 4,
 "nbformat_minor": 4
}
